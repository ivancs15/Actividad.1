{
  "nbformat": 4,
  "nbformat_minor": 0,
  "metadata": {
    "colab": {
      "name": "Untitled0.ipynb",
      "provenance": [],
      "collapsed_sections": []
    },
    "kernelspec": {
      "name": "python3",
      "display_name": "Python 3"
    }
  },
  "cells": [
    {
      "cell_type": "code",
      "metadata": {
        "id": "FlLFrpGvWWtA"
      },
      "source": [
        "Programa 1 \n"
      ],
      "execution_count": null,
      "outputs": []
    },
    {
      "cell_type": "code",
      "metadata": {
        "id": "FYFqX9IeeHDC",
        "outputId": "3ce3207a-08ef-4c47-9886-17c5901a87db",
        "colab": {
          "base_uri": "https://localhost:8080/"
        }
      },
      "source": [
        "nu = int(input(\"introduzca un numero para determinar si es par o impar: \"))\n",
        "if nu%2 == 0:\n",
        "  print(\"El numero es par\")\n",
        "\n",
        "else:\n",
        "  print(\"El numero es impar\")\n"
      ],
      "execution_count": 3,
      "outputs": [
        {
          "output_type": "stream",
          "text": [
            "introduzca un numero y el programa dira si es par o impar 18\n",
            "El numero es par\n"
          ],
          "name": "stdout"
        }
      ]
    },
    {
      "cell_type": "markdown",
      "metadata": {
        "id": "-NKR2v8xmQDs"
      },
      "source": [
        "Programa 2\n"
      ]
    },
    {
      "cell_type": "code",
      "metadata": {
        "id": "c_JQstV7mSgx",
        "outputId": "2b774ffd-0345-4ef0-edaa-6b2a120b330a",
        "colab": {
          "base_uri": "https://localhost:8080/"
        }
      },
      "source": [
        "chain=str (input(\"Introduzca un texto: \"))\n",
        "rep=int (input(\"¿Cuantas veces deseas repetirlo?: \"))\n",
        "\n",
        "for i in range(0,rep):\n",
        "  print(chain)"
      ],
      "execution_count": 7,
      "outputs": [
        {
          "output_type": "stream",
          "text": [
            "Introduzca un texto: Hola\n",
            "¿Cuantas veces deseas repetirlo?: 16\n",
            "Hola\n",
            "Hola\n",
            "Hola\n",
            "Hola\n",
            "Hola\n",
            "Hola\n",
            "Hola\n",
            "Hola\n",
            "Hola\n",
            "Hola\n",
            "Hola\n",
            "Hola\n",
            "Hola\n",
            "Hola\n",
            "Hola\n",
            "Hola\n"
          ],
          "name": "stdout"
        }
      ]
    },
    {
      "cell_type": "code",
      "metadata": {
        "id": "1YxMZiV2X_ko"
      },
      "source": [
        "Programa 3 \n"
      ],
      "execution_count": null,
      "outputs": []
    },
    {
      "cell_type": "code",
      "metadata": {
        "id": "Jm5iYGc3iUrW",
        "outputId": "c167056c-c3ef-43b9-9d86-77edcb6d2ae2",
        "colab": {
          "base_uri": "https://localhost:8080/"
        }
      },
      "source": [
        "#Ejercicio 3\n",
        "x=150\n",
        "print(\"Este programa calcula cuanto dinero ganas dependiendo de las horas trabajadas\")\n",
        "horas = int(input(\"¿Cuantas horas trabajo éste día? \"))\n",
        "y=horas*x\n",
        "print(\"Su sueldo es de:\",y,\"pesos\")\n",
        "print(\"Su sueldo en 5 dias será de:\", y*5, \"pesos\")\n",
        "print(\"Su sueldo en 20 dias será de:\", y*20, \"pesos\")\n"
      ],
      "execution_count": 4,
      "outputs": [
        {
          "output_type": "stream",
          "text": [
            "Este programa calcula cuanto dinero ganas dependiendo de las horas trabajadas\n",
            "¿Cuantas horas trabajo éste día? 7\n",
            "Su sueldo es de: 1050 pesos\n",
            "Su sueldo en 5 dias será de: 5250 pesos\n",
            "Su sueldo en 20 dias será de: 21000 pesos\n"
          ],
          "name": "stdout"
        }
      ]
    },
    {
      "cell_type": "markdown",
      "metadata": {
        "id": "0iKdfOuslJ3b"
      },
      "source": [
        "Programa 4\n"
      ]
    },
    {
      "cell_type": "code",
      "metadata": {
        "id": "HkPGkG2elNgK",
        "outputId": "a79bc2c9-a8cb-4ea5-e96c-9dc98c3de510",
        "colab": {
          "base_uri": "https://localhost:8080/"
        }
      },
      "source": [
        "#Ejercicio 4\n",
        "print(\"Este programa es una calculadora de dos numeros\")\n",
        "x = input(\"Digite a.Suma   b.Resta   c.Multiplicacion    d.Division \")\n",
        "if x != \"d\":\n",
        "  h = float (input(\"Escriba el primer valor: \"))\n",
        "  i = float (input(\"Escriba el segundo valor: \"))\n",
        "if x == \"d\":\n",
        "  j = float (input(\"Escriba el primer valor: \"))\n",
        "  k = float (input(\"Escriba el segundo valor: \"))\n",
        "  if k == 0: \n",
        "      print(\"El numero 0 no es valido\")\n",
        "      while k == 0:\n",
        "        k = float (input(\"Escriba el segundo valor: \"))\n",
        "        if k ==0:\n",
        "          print(\"El numero 0 no es valido\")\n",
        "if x == \"a\":\n",
        "  print(\"El resultado es: \",h+i)\n",
        "if x == \"b\":\n",
        "  print(\"El resultado es: \",h-i)\n",
        "if x == \"c\":\n",
        "  print(\"El resultado es: \",h*i)\n",
        "if x == \"d\":\n",
        "  print(\"El resultado es: \",j/k)\n",
        "\n"
      ],
      "execution_count": 6,
      "outputs": [
        {
          "output_type": "stream",
          "text": [
            "Este programa es una calculadora de dos numeros\n",
            "Digite a.Suma   b.Resta   c.Multiplicacion    d.Division c\n",
            "Escriba el primer valor: 5\n",
            "Escriba el segundo valor: 7\n",
            "El resultado es:  35.0\n"
          ],
          "name": "stdout"
        }
      ]
    },
    {
      "cell_type": "markdown",
      "metadata": {
        "id": "rehrWq_5myIx"
      },
      "source": [
        "Programa 5\n"
      ]
    },
    {
      "cell_type": "code",
      "metadata": {
        "id": "0oRAh4OFm8Vq",
        "outputId": "127ae2f4-8394-4a8e-f755-ca6d6d90cb14",
        "colab": {
          "base_uri": "https://localhost:8080/"
        }
      },
      "source": [
        "print(\"tomando pedidos de payasos y juegos de mesa de (maximo 10 kg)\")\n",
        "def pesopedido(val1,val2):\n",
        " if c > 10000:\n",
        "   return [c,False]\n",
        " else: \n",
        "   return [c,True]\n",
        "a=int (input(\"Nº de payasos: \"))*150\n",
        "b=int (input(\"Nº juegos de mesa: \"))*170\n",
        "c=a+b\n",
        "res,status=pesopedido(a,b)\n",
        "\n",
        "if (status):\n",
        "  print(\"Confirmado, su orden pesa: \",c, \"gramos\")\n",
        "else: \n",
        "  print(\"Rechazado, el pedido sobrepasa el limite 10 kg por:\",c-10000,\"gramos\")"
      ],
      "execution_count": 10,
      "outputs": [
        {
          "output_type": "stream",
          "text": [
            "tomando pedidos de payasos y juegos de mesa de maximo 10 kg\n",
            "Nº de payasos: 4\n",
            "Nº juegos de mesa: 7\n",
            "Confirmado, su orden pesa:  1790 gramos\n"
          ],
          "name": "stdout"
        }
      ]
    },
    {
      "cell_type": "markdown",
      "metadata": {
        "id": "SuTRMpecouxi"
      },
      "source": [
        "Programa 6\n"
      ]
    },
    {
      "cell_type": "code",
      "metadata": {
        "id": "Xw3J3twqowm3",
        "outputId": "64eeb686-e162-4e68-ef73-ca15e038c010",
        "colab": {
          "base_uri": "https://localhost:8080/"
        }
      },
      "source": [
        "print(\"este programa te informa el porcentaje de descuento salarial, en relacion con tus ingresos\")\n",
        "x = int(input(\"¿Cual es tu ingreso total? \"))\n",
        "if x < 10000:\n",
        "  print(\"Estas en el intervalo de 10000. Se te descontara el 5%, tu total es de:\",(x)-(x*.05), \"pesos\")\n",
        "\n",
        "if 10000 < x < 15000:\n",
        "  print(\"Estas en el intervalo de mas de 10000 y menos de 15000. Se te descontara el 10%, tu total es de:\",(x)-(x*.10), \"pesos\")\n",
        "\n",
        "if 15000 < x < 20000:\n",
        "  print(\"Estas en el intervalo de menos de 15000 y menos de 20000. Se te descontara el 15%, tu total es de:\",(x)-(x*.15), \"pesos\")\n",
        "\n",
        "if x > 20000:\n",
        "  print(\"Estas en el intervalo de mas de 20000. Se te descontara el 20%, tu total es de:\",(x)-(x*.20), \"pesos\")"
      ],
      "execution_count": 12,
      "outputs": [
        {
          "output_type": "stream",
          "text": [
            "este programa te informa el porcentaje de descuento salarial, en relacion con tus ingresos\n",
            "¿Cual es tu ingreso total? 17000\n",
            "Estas en el intervalo de menos de 15000 y menos de 20000. Se te descontara el 15%, tu total es de: 14450.0 pesos\n"
          ],
          "name": "stdout"
        }
      ]
    },
    {
      "cell_type": "markdown",
      "metadata": {
        "id": "jUYgdI0Ypy6W"
      },
      "source": [
        "Programa 7\n"
      ]
    },
    {
      "cell_type": "code",
      "metadata": {
        "id": "ZvoTQHd7p9ef",
        "outputId": "b4da4bd4-9525-4cff-e75d-413569d8b95d",
        "colab": {
          "base_uri": "https://localhost:8080/"
        }
      },
      "source": [
        "#Ejercicio 7 \n",
        "print(\"Este programa te dirá cuanto tendras que pagar por entrar al museo\")\n",
        "print(\"Seleccione su edad\")\n",
        "e = int(input(\"(1. Menor de 4 años) (2.Entre 4 y 16 años) (3. Adulto) \"))\n",
        "print(\"seleccione su ocupacion\")\n",
        "o = int(input(\"(1. Estudiante con credencial) (2. Docente con credencial) (3. INAPAM) \"))\n",
        "\n",
        "if e == 1 and o == 1:\n",
        "  print(\"Usted es menor de 4 años, pasa Gratis\")\n",
        "if e == 2 and o == 1:\n",
        "  print(\"Usted tiene entre 4 y 16 años, es estudiante con credencial, pagará: $45\")\n",
        "if e == 3 and o == 1:\n",
        "  print(\"Usted es adulto, es estudiante con credencial, pagará: $90\")\n",
        "\n",
        "if e == 1 and o == 2:\n",
        "  print(\"Usted es menor de 4 años pasa Gratis\")\n",
        "if e == 2 and o == 2:\n",
        "  print(\"Usted tiene entre 4 y 16 años, es docente con credencial, pagará: $35\")\n",
        "if e == 3 and o == 2:\n",
        "  print(\"Usted es adulto, es docente con credencial, pagará: $70\")\n",
        "\n",
        "if e == 1 and o == 3:\n",
        "  print(\"Usted es menor de 4 años pasa Gratis\")\n",
        "if e == 2 and o == 3:\n",
        "  print(\"Usted tiene entre 4 y 16 años, cuenta con INAPAM, pagará: $25\")\n",
        "if e == 3 and o == 3:\n",
        "  print(\"Usted es adulto, cuenta con INAPAM, pagará: $50\")\n",
        "\n"
      ],
      "execution_count": 13,
      "outputs": [
        {
          "output_type": "stream",
          "text": [
            "Este programa te dirá cuanto tendras que pagar por entrar al museo\n",
            "Se le mostrar un menu, por favor seleccione su edad\n",
            "(1. Menor de 4 años) (2.Entre 4 y 16 años) (3. Adulto) 3\n",
            "Se le mostrar un menu, por favor seleccione su ocupacion\n",
            "(1. Estudiante con credencial) (2. Docente con credencial) (3. INAPAM) 1\n",
            "Usted es adulto, es estudiante con credencial, pagará: $90\n"
          ],
          "name": "stdout"
        }
      ]
    },
    {
      "cell_type": "markdown",
      "metadata": {
        "id": "XGw9zaWUwtVd"
      },
      "source": [
        "Ejercicio 8\n"
      ]
    },
    {
      "cell_type": "code",
      "metadata": {
        "id": "TKYwfVjTw0HF",
        "outputId": "47abafc8-e525-4c1a-994f-c694422054f6",
        "colab": {
          "base_uri": "https://localhost:8080/"
        }
      },
      "source": [
        "#Ejercicio 8\n",
        "print(\"Este programa dibujara un triangulito con asteriscos en el numero que pongas\")\n",
        "a= int(input(\"Introduzca un numero:\"))\n",
        "\n",
        "for i in range (0,a,1):\n",
        "  for j in range (0,i+1,1):\n",
        "    print(\"*\",end=\"\")\n",
        "  print(\"\")"
      ],
      "execution_count": 14,
      "outputs": [
        {
          "output_type": "stream",
          "text": [
            "Este programa dibujara un triangulito con asteriscos en el mumero que pongas\n",
            "Introduzca un numero:16\n",
            "*\n",
            "**\n",
            "***\n",
            "****\n",
            "*****\n",
            "******\n",
            "*******\n",
            "********\n",
            "*********\n",
            "**********\n",
            "***********\n",
            "************\n",
            "*************\n",
            "**************\n",
            "***************\n",
            "****************\n"
          ],
          "name": "stdout"
        }
      ]
    },
    {
      "cell_type": "markdown",
      "metadata": {
        "id": "4G6I5KA7y6m3"
      },
      "source": [
        "Ejercicio 9\n"
      ]
    },
    {
      "cell_type": "code",
      "metadata": {
        "id": "NWeIasM4zTmW",
        "outputId": "e2889e0d-ff2f-4134-af48-b01ffe7a4344",
        "colab": {
          "base_uri": "https://localhost:8080/"
        }
      },
      "source": [
        "#Ejercicio 9\n",
        "a= int(input(\"Ponga un numero positivo:\"))\n",
        "fact = 1\n",
        "\n",
        "for i in range (a):\n",
        "  fact= fact*a\n",
        "  a = a-1\n",
        "\n",
        "print (\"Su factorial es:\",fact)\n"
      ],
      "execution_count": 16,
      "outputs": [
        {
          "output_type": "stream",
          "text": [
            "Ponga un numero positivo:7\n",
            "Su factorial es: 5040\n"
          ],
          "name": "stdout"
        }
      ]
    },
    {
      "cell_type": "markdown",
      "metadata": {
        "id": "FiQXgqoI20z3"
      },
      "source": [
        "Ejercicio 10"
      ]
    },
    {
      "cell_type": "code",
      "metadata": {
        "id": "BculuHB926a1",
        "outputId": "615185a5-786e-4fed-86e7-74334d5fac7f",
        "colab": {
          "base_uri": "https://localhost:8080/"
        }
      },
      "source": [
        "#Ejercicio 10\n",
        "print(\"Este programa te servia para sacar el volumen de un cilindro\")\n",
        "def area(radio):\n",
        " A=3.141592*(radio**2)\n",
        " return A\n",
        "def volumen(radio,h):\n",
        " V=area(radio)*h\n",
        " return V\n",
        "\n",
        "radio=float (input(\"¿Cual es el radio del círculo?: \"))\n",
        "h=float (input(\"¿Cual es la altura del cilindro?: \"))\n",
        "print(\"El área del círculo es:\",area(radio))\n",
        "print(\"El volumen del cilindro es:\",volumen(radio,h))"
      ],
      "execution_count": 18,
      "outputs": [
        {
          "output_type": "stream",
          "text": [
            "Este programa te servia para sacar el volumen de un cilindro\n",
            "¿Cual es el radio del círculo?: 3\n",
            "¿Cual es la altura del cilindro?: 10\n",
            "El área del círculo es: 28.274328\n",
            "El volumen del cilindro es: 282.74328\n"
          ],
          "name": "stdout"
        }
      ]
    },
    {
      "cell_type": "markdown",
      "metadata": {
        "id": "1hcNzI8Ws8MX"
      },
      "source": [
        ""
      ]
    }
  ]
}